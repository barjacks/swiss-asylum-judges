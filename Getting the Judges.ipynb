{
 "cells": [
  {
   "cell_type": "markdown",
   "metadata": {},
   "source": [
    "# Getting the Judges"
   ]
  },
  {
   "cell_type": "markdown",
   "metadata": {},
   "source": [
    "[Source](http://www.bvger.ch/gericht/richter/00563/00580/index.html?lang=de) of the judges.\n",
    "- [Abteilung IV](http://www.bvger.ch/gericht/richter/00563/00580/index.html?lang=de)\n",
    "- [Abteilung V](http://www.bvger.ch/gericht/richter/00563/00581/index.html?lang=de)"
   ]
  },
  {
   "cell_type": "code",
   "execution_count": 2,
   "metadata": {
    "collapsed": true
   },
   "outputs": [],
   "source": [
    "import requests\n",
    "from bs4 import BeautifulSoup\n",
    "import pandas as pd\n",
    "import numpy as np\n",
    "import matplotlib.pyplot as plt\n",
    "import matplotlib\n",
    "\n",
    "plt.style.use('ggplot')\n",
    "import dateutil.parser\n",
    "import re\n",
    "import time"
   ]
  },
  {
   "cell_type": "code",
   "execution_count": 3,
   "metadata": {
    "collapsed": false
   },
   "outputs": [],
   "source": [
    "url = \"http://www.bvger.ch/gericht/richter/00563/00580/index.html?lang=de\"\n",
    "response = requests.get(url)\n",
    "judges_IV_soup = BeautifulSoup(response.text, 'html.parser')\n",
    "judges_IV = judges_IV_soup.find_all('div', {'class': 'contentFlex flexUnterseite'})"
   ]
  },
  {
   "cell_type": "code",
   "execution_count": 4,
   "metadata": {
    "collapsed": false
   },
   "outputs": [],
   "source": [
    "judges_IV_list = []\n",
    "\n",
    "for soup in judges_IV:\n",
    "    \n",
    "    #name\n",
    "    name = soup.find('a').text\n",
    "    name = name.replace(' (PrÃ¤sident Abt. IV)', '')\n",
    "    \n",
    "    #url\n",
    "    html = soup.find('a').get('href')\n",
    "    url = 'http://www.bvger.ch' + html\n",
    "    \n",
    "    response = requests.get(url)\n",
    "    judges_text = BeautifulSoup(response.text, 'html.parser')\n",
    "    partei = judges_text.find('div', {'class': 'webText flexTinymceDiv'}).text[-3:]\n",
    "    partei = partei.replace('los', 'parteilos').replace('ux.', 'FDP').replace('PLR', 'FDP')\n",
    "    partei = partei.replace('que', 'parteilos').replace('üne', 'Grüne')\n",
    "    partei = partei.replace('UDC', 'SVP').replace('DC.', 'SVP').replace('DC.', 'FDP')\n",
    "    \n",
    "    judge = {'Name': name,\n",
    "             'Partei': partei,\n",
    "            }\n",
    "    \n",
    "    judges_IV_list.append(judge)"
   ]
  },
  {
   "cell_type": "code",
   "execution_count": 5,
   "metadata": {
    "collapsed": true
   },
   "outputs": [],
   "source": [
    "url = \"http://www.bvger.ch/gericht/richter/00563/00581/index.html?lang=de\"\n",
    "response = requests.get(url)\n",
    "judges_V_soup = BeautifulSoup(response.text, 'html.parser')\n",
    "judges_V = judges_V_soup.find_all('div', {'class': 'contentFlex flexUnterseite'})"
   ]
  },
  {
   "cell_type": "code",
   "execution_count": 6,
   "metadata": {
    "collapsed": false
   },
   "outputs": [],
   "source": [
    "judges_V_list = []\n",
    "\n",
    "for soup in judges_V:\n",
    "    \n",
    "    #name\n",
    "    name = soup.find('a').text\n",
    "    name = name.replace(' (PrÃ¤sident Abt. IV)', '').replace(' (PrÃ¤sidentin Abt. V)', '')\n",
    "     \n",
    "    #url\n",
    "    html = soup.find('a').get('href')\n",
    "    url = 'http://www.bvger.ch' + html\n",
    "    \n",
    "    response = requests.get(url)\n",
    "    judges_text = BeautifulSoup(response.text, 'html.parser')\n",
    "    partei = judges_text.find('div', {'class': 'webText flexTinymceDiv'}).text[-3:]\n",
    "    partei = partei.replace('los', 'parteilos').replace('ux.', 'FDP')\n",
    "    partei = partei.replace('que', 'parteilos').replace('rts', 'Grüne').replace('üne', 'Grüne').replace('GrGrüne', 'Grüne')\n",
    "    partei = partei.replace('UDC', 'SVP').replace('DC.', 'SVP').replace('DC.', 'FDP')\n",
    "    partei = partei.replace('07.', 'parteilos').replace('ale', 'GLP').strip()\n",
    "    partei = partei.replace('PS', 'SP').replace('VP.', 'SVP')\n",
    "    \n",
    "    \n",
    "    judge = {'Name': name,\n",
    "             'Partei': partei,\n",
    "            }\n",
    "    \n",
    "    judges_V_list.append(judge)"
   ]
  },
  {
   "cell_type": "code",
   "execution_count": 7,
   "metadata": {
    "collapsed": true
   },
   "outputs": [],
   "source": [
    "judges_list = judges_IV_list + judges_V_list"
   ]
  },
  {
   "cell_type": "code",
   "execution_count": 8,
   "metadata": {
    "collapsed": false
   },
   "outputs": [],
   "source": [
    "judges_list = pd.DataFrame(judges_list)"
   ]
  },
  {
   "cell_type": "markdown",
   "metadata": {},
   "source": [
    "# Reorganising the Names to merge later on"
   ]
  },
  {
   "cell_type": "code",
   "execution_count": 9,
   "metadata": {
    "collapsed": false
   },
   "outputs": [],
   "source": [
    "test = list(judges_list['Name'])"
   ]
  },
  {
   "cell_type": "code",
   "execution_count": 10,
   "metadata": {
    "collapsed": true
   },
   "outputs": [],
   "source": [
    "x_list = []\n",
    "for x in test:\n",
    "    if x == 'R.':\n",
    "        x = ['Wenger', 'David R.']\n",
    "    else:\n",
    "        x = x.rsplit(' ', 1)\n",
    "    x = x[1]\n",
    "    x_list.append(x)"
   ]
  },
  {
   "cell_type": "code",
   "execution_count": 11,
   "metadata": {
    "collapsed": false
   },
   "outputs": [],
   "source": [
    "vorname = pd.DataFrame(x_list)"
   ]
  },
  {
   "cell_type": "code",
   "execution_count": 12,
   "metadata": {
    "collapsed": true
   },
   "outputs": [],
   "source": [
    "x_list = []\n",
    "for x in test:\n",
    "    if x == 'R.':\n",
    "        x = ['Wenger', 'David R.']\n",
    "    else:\n",
    "        x = x.rsplit(' ', 1)\n",
    "    x = x[0]\n",
    "    x_list.append(x)"
   ]
  },
  {
   "cell_type": "code",
   "execution_count": 13,
   "metadata": {
    "collapsed": true
   },
   "outputs": [],
   "source": [
    "nachname = pd.DataFrame(x_list)"
   ]
  },
  {
   "cell_type": "code",
   "execution_count": 14,
   "metadata": {
    "collapsed": false
   },
   "outputs": [],
   "source": [
    "df = pd.concat([judges_list, nachname, vorname], axis=1)\n",
    "df.columns = [['Name', 'Partei', 'Nachname', 'Vorname']]"
   ]
  },
  {
   "cell_type": "code",
   "execution_count": 15,
   "metadata": {
    "collapsed": false
   },
   "outputs": [],
   "source": [
    "df['Nachname Vorname'] = df['Vorname'] + ' ' + df['Nachname']"
   ]
  },
  {
   "cell_type": "code",
   "execution_count": 16,
   "metadata": {
    "collapsed": true
   },
   "outputs": [],
   "source": [
    "#Changing the one cell\n",
    "df['Nachname Vorname'][26] = 'David R. Wenger'"
   ]
  },
  {
   "cell_type": "code",
   "execution_count": 17,
   "metadata": {
    "collapsed": false
   },
   "outputs": [],
   "source": [
    "df.to_csv('richter_partei.csv', index=False)"
   ]
  },
  {
   "cell_type": "code",
   "execution_count": 35,
   "metadata": {
    "collapsed": false
   },
   "outputs": [
    {
     "data": {
      "text/html": [
       "<div>\n",
       "<table border=\"1\" class=\"dataframe\">\n",
       "  <thead>\n",
       "    <tr style=\"text-align: right;\">\n",
       "      <th></th>\n",
       "      <th>Name</th>\n",
       "      <th>Partei</th>\n",
       "      <th>Nachname</th>\n",
       "      <th>Vorname</th>\n",
       "      <th>Nachname Vorname</th>\n",
       "    </tr>\n",
       "  </thead>\n",
       "  <tbody>\n",
       "    <tr>\n",
       "      <th>0</th>\n",
       "      <td>Lang Walter</td>\n",
       "      <td>parteilos</td>\n",
       "      <td>Lang</td>\n",
       "      <td>Walter</td>\n",
       "      <td>Walter Lang</td>\n",
       "    </tr>\n",
       "    <tr>\n",
       "      <th>1</th>\n",
       "      <td>Bovier Gérald</td>\n",
       "      <td>SVP</td>\n",
       "      <td>Bovier</td>\n",
       "      <td>Gérald</td>\n",
       "      <td>Gérald Bovier</td>\n",
       "    </tr>\n",
       "    <tr>\n",
       "      <th>2</th>\n",
       "      <td>Brüschweiler Daniela</td>\n",
       "      <td>BDP</td>\n",
       "      <td>Brüschweiler</td>\n",
       "      <td>Daniela</td>\n",
       "      <td>Daniela Brüschweiler</td>\n",
       "    </tr>\n",
       "    <tr>\n",
       "      <th>3</th>\n",
       "      <td>Cattaneo Daniele</td>\n",
       "      <td>FDP</td>\n",
       "      <td>Cattaneo</td>\n",
       "      <td>Daniele</td>\n",
       "      <td>Daniele Cattaneo</td>\n",
       "    </tr>\n",
       "    <tr>\n",
       "      <th>4</th>\n",
       "      <td>Cotting-Schalch Claudia</td>\n",
       "      <td>FDP</td>\n",
       "      <td>Cotting-Schalch</td>\n",
       "      <td>Claudia</td>\n",
       "      <td>Claudia Cotting-Schalch</td>\n",
       "    </tr>\n",
       "    <tr>\n",
       "      <th>5</th>\n",
       "      <td>Felley Yanick</td>\n",
       "      <td>SVP</td>\n",
       "      <td>Felley</td>\n",
       "      <td>Yanick</td>\n",
       "      <td>Yanick Felley</td>\n",
       "    </tr>\n",
       "    <tr>\n",
       "      <th>6</th>\n",
       "      <td>Haefeli Fulvio</td>\n",
       "      <td>SVP</td>\n",
       "      <td>Haefeli</td>\n",
       "      <td>Fulvio</td>\n",
       "      <td>Fulvio Haefeli</td>\n",
       "    </tr>\n",
       "    <tr>\n",
       "      <th>7</th>\n",
       "      <td>Scherrer Gérard</td>\n",
       "      <td>parteilos</td>\n",
       "      <td>Scherrer</td>\n",
       "      <td>Gérard</td>\n",
       "      <td>Gérard Scherrer</td>\n",
       "    </tr>\n",
       "    <tr>\n",
       "      <th>8</th>\n",
       "      <td>Schürch Hans</td>\n",
       "      <td>FDP</td>\n",
       "      <td>Schürch</td>\n",
       "      <td>Hans</td>\n",
       "      <td>Hans Schürch</td>\n",
       "    </tr>\n",
       "    <tr>\n",
       "      <th>9</th>\n",
       "      <td>Spälti Giannakitsas Nina</td>\n",
       "      <td>SP</td>\n",
       "      <td>Spälti Giannakitsas</td>\n",
       "      <td>Nina</td>\n",
       "      <td>Nina Spälti Giannakitsas</td>\n",
       "    </tr>\n",
       "    <tr>\n",
       "      <th>10</th>\n",
       "      <td>Tellenbach Bendicht</td>\n",
       "      <td>SP</td>\n",
       "      <td>Tellenbach</td>\n",
       "      <td>Bendicht</td>\n",
       "      <td>Bendicht Tellenbach</td>\n",
       "    </tr>\n",
       "    <tr>\n",
       "      <th>11</th>\n",
       "      <td>Theis Contessina</td>\n",
       "      <td>Grüne</td>\n",
       "      <td>Theis</td>\n",
       "      <td>Contessina</td>\n",
       "      <td>Contessina Theis</td>\n",
       "    </tr>\n",
       "    <tr>\n",
       "      <th>12</th>\n",
       "      <td>Thurnheer Simon Mathias</td>\n",
       "      <td>SVP</td>\n",
       "      <td>Thurnheer Simon</td>\n",
       "      <td>Mathias</td>\n",
       "      <td>Mathias Thurnheer Simon</td>\n",
       "    </tr>\n",
       "    <tr>\n",
       "      <th>13</th>\n",
       "      <td>Wespi Thomas</td>\n",
       "      <td>CVP</td>\n",
       "      <td>Wespi</td>\n",
       "      <td>Thomas</td>\n",
       "      <td>Thomas Wespi</td>\n",
       "    </tr>\n",
       "    <tr>\n",
       "      <th>14</th>\n",
       "      <td>Beck Kadima Muriel</td>\n",
       "      <td>Grüne</td>\n",
       "      <td>Beck Kadima</td>\n",
       "      <td>Muriel</td>\n",
       "      <td>Muriel Beck Kadima</td>\n",
       "    </tr>\n",
       "    <tr>\n",
       "      <th>15</th>\n",
       "      <td>Antonioni Luftensteiner Emilia</td>\n",
       "      <td>Grüne</td>\n",
       "      <td>Antonioni Luftensteiner</td>\n",
       "      <td>Emilia</td>\n",
       "      <td>Emilia Antonioni Luftensteiner</td>\n",
       "    </tr>\n",
       "    <tr>\n",
       "      <th>16</th>\n",
       "      <td>Badoud François</td>\n",
       "      <td>parteilos</td>\n",
       "      <td>Badoud</td>\n",
       "      <td>François</td>\n",
       "      <td>François Badoud</td>\n",
       "    </tr>\n",
       "    <tr>\n",
       "      <th>17</th>\n",
       "      <td>Balmelli-Mühlematter Barbara</td>\n",
       "      <td>GLP</td>\n",
       "      <td>Balmelli-Mühlematter</td>\n",
       "      <td>Barbara</td>\n",
       "      <td>Barbara Balmelli-Mühlematter</td>\n",
       "    </tr>\n",
       "    <tr>\n",
       "      <th>18</th>\n",
       "      <td>Cossy Sylvie</td>\n",
       "      <td>Grüne</td>\n",
       "      <td>Cossy</td>\n",
       "      <td>Sylvie</td>\n",
       "      <td>Sylvie Cossy</td>\n",
       "    </tr>\n",
       "    <tr>\n",
       "      <th>19</th>\n",
       "      <td>Freihofer Gabriela</td>\n",
       "      <td>SVP</td>\n",
       "      <td>Freihofer</td>\n",
       "      <td>Gabriela</td>\n",
       "      <td>Gabriela Freihofer</td>\n",
       "    </tr>\n",
       "    <tr>\n",
       "      <th>20</th>\n",
       "      <td>Marti Esther</td>\n",
       "      <td>GLP</td>\n",
       "      <td>Marti</td>\n",
       "      <td>Esther</td>\n",
       "      <td>Esther Marti</td>\n",
       "    </tr>\n",
       "    <tr>\n",
       "      <th>21</th>\n",
       "      <td>König Markus</td>\n",
       "      <td>SP</td>\n",
       "      <td>König</td>\n",
       "      <td>Markus</td>\n",
       "      <td>Markus König</td>\n",
       "    </tr>\n",
       "    <tr>\n",
       "      <th>22</th>\n",
       "      <td>Luterbacher Christa</td>\n",
       "      <td>SP</td>\n",
       "      <td>Luterbacher</td>\n",
       "      <td>Christa</td>\n",
       "      <td>Christa Luterbacher</td>\n",
       "    </tr>\n",
       "    <tr>\n",
       "      <th>23</th>\n",
       "      <td>Monnet Jean-Pierre</td>\n",
       "      <td>parteilos</td>\n",
       "      <td>Monnet</td>\n",
       "      <td>Jean-Pierre</td>\n",
       "      <td>Jean-Pierre Monnet</td>\n",
       "    </tr>\n",
       "    <tr>\n",
       "      <th>24</th>\n",
       "      <td>Schenker Senn Regula</td>\n",
       "      <td>SP</td>\n",
       "      <td>Schenker Senn</td>\n",
       "      <td>Regula</td>\n",
       "      <td>Regula Schenker Senn</td>\n",
       "    </tr>\n",
       "    <tr>\n",
       "      <th>25</th>\n",
       "      <td>Waeber William</td>\n",
       "      <td>SP</td>\n",
       "      <td>Waeber</td>\n",
       "      <td>William</td>\n",
       "      <td>William Waeber</td>\n",
       "    </tr>\n",
       "    <tr>\n",
       "      <th>26</th>\n",
       "      <td>Wenger David R.</td>\n",
       "      <td>SVP</td>\n",
       "      <td>Wenger David R.</td>\n",
       "      <td></td>\n",
       "      <td>David R. Wenger</td>\n",
       "    </tr>\n",
       "    <tr>\n",
       "      <th>27</th>\n",
       "      <td>Willisegger Daniel</td>\n",
       "      <td>SVP</td>\n",
       "      <td>Willisegger</td>\n",
       "      <td>Daniel</td>\n",
       "      <td>Daniel Willisegger</td>\n",
       "    </tr>\n",
       "  </tbody>\n",
       "</table>\n",
       "</div>"
      ],
      "text/plain": [
       "                              Name     Partei                 Nachname  \\\n",
       "0                      Lang Walter  parteilos                     Lang   \n",
       "1                    Bovier Gérald        SVP                   Bovier   \n",
       "2             Brüschweiler Daniela        BDP             Brüschweiler   \n",
       "3                 Cattaneo Daniele        FDP                 Cattaneo   \n",
       "4          Cotting-Schalch Claudia        FDP          Cotting-Schalch   \n",
       "5                    Felley Yanick        SVP                   Felley   \n",
       "6                   Haefeli Fulvio        SVP                  Haefeli   \n",
       "7                  Scherrer Gérard  parteilos                 Scherrer   \n",
       "8                     Schürch Hans        FDP                  Schürch   \n",
       "9         Spälti Giannakitsas Nina         SP      Spälti Giannakitsas   \n",
       "10             Tellenbach Bendicht         SP               Tellenbach   \n",
       "11                Theis Contessina      Grüne                    Theis   \n",
       "12         Thurnheer Simon Mathias        SVP          Thurnheer Simon   \n",
       "13                    Wespi Thomas        CVP                    Wespi   \n",
       "14              Beck Kadima Muriel      Grüne              Beck Kadima   \n",
       "15  Antonioni Luftensteiner Emilia      Grüne  Antonioni Luftensteiner   \n",
       "16                 Badoud François  parteilos                   Badoud   \n",
       "17    Balmelli-Mühlematter Barbara        GLP     Balmelli-Mühlematter   \n",
       "18                    Cossy Sylvie      Grüne                    Cossy   \n",
       "19              Freihofer Gabriela        SVP                Freihofer   \n",
       "20                    Marti Esther        GLP                    Marti   \n",
       "21                    König Markus         SP                    König   \n",
       "22             Luterbacher Christa         SP              Luterbacher   \n",
       "23              Monnet Jean-Pierre  parteilos                   Monnet   \n",
       "24            Schenker Senn Regula         SP            Schenker Senn   \n",
       "25                  Waeber William         SP                   Waeber   \n",
       "26                Wenger David R.         SVP          Wenger David R.   \n",
       "27              Willisegger Daniel        SVP              Willisegger   \n",
       "\n",
       "        Vorname                Nachname Vorname  \n",
       "0        Walter                     Walter Lang  \n",
       "1        Gérald                   Gérald Bovier  \n",
       "2       Daniela            Daniela Brüschweiler  \n",
       "3       Daniele                Daniele Cattaneo  \n",
       "4       Claudia         Claudia Cotting-Schalch  \n",
       "5        Yanick                   Yanick Felley  \n",
       "6        Fulvio                  Fulvio Haefeli  \n",
       "7        Gérard                 Gérard Scherrer  \n",
       "8          Hans                    Hans Schürch  \n",
       "9          Nina        Nina Spälti Giannakitsas  \n",
       "10     Bendicht             Bendicht Tellenbach  \n",
       "11   Contessina                Contessina Theis  \n",
       "12      Mathias         Mathias Thurnheer Simon  \n",
       "13       Thomas                    Thomas Wespi  \n",
       "14       Muriel              Muriel Beck Kadima  \n",
       "15       Emilia  Emilia Antonioni Luftensteiner  \n",
       "16     François                 François Badoud  \n",
       "17      Barbara    Barbara Balmelli-Mühlematter  \n",
       "18       Sylvie                    Sylvie Cossy  \n",
       "19     Gabriela              Gabriela Freihofer  \n",
       "20       Esther                    Esther Marti  \n",
       "21       Markus                    Markus König  \n",
       "22      Christa             Christa Luterbacher  \n",
       "23  Jean-Pierre              Jean-Pierre Monnet  \n",
       "24       Regula            Regula Schenker Senn  \n",
       "25      William                  William Waeber  \n",
       "26                              David R. Wenger  \n",
       "27       Daniel              Daniel Willisegger  "
      ]
     },
     "execution_count": 35,
     "metadata": {},
     "output_type": "execute_result"
    }
   ],
   "source": [
    "df"
   ]
  },
  {
   "cell_type": "code",
   "execution_count": 36,
   "metadata": {
    "collapsed": false
   },
   "outputs": [],
   "source": [
    "df_partei_count = pd.DataFrame(df['Partei'].value_counts())"
   ]
  },
  {
   "cell_type": "code",
   "execution_count": 37,
   "metadata": {
    "collapsed": false
   },
   "outputs": [],
   "source": [
    "df_partei_count = df_partei_count.reset_index()"
   ]
  },
  {
   "cell_type": "code",
   "execution_count": 38,
   "metadata": {
    "collapsed": false
   },
   "outputs": [],
   "source": [
    "total = sum(list(df_partei_count['Partei']))"
   ]
  },
  {
   "cell_type": "code",
   "execution_count": 39,
   "metadata": {
    "collapsed": true
   },
   "outputs": [],
   "source": [
    "def per(x):\n",
    "    percentage = x / total * 100\n",
    "    return percentage"
   ]
  },
  {
   "cell_type": "code",
   "execution_count": 42,
   "metadata": {
    "collapsed": false
   },
   "outputs": [],
   "source": [
    "df_partei_count['percentage'] = round(df_partei_count['Partei'].apply(per))"
   ]
  },
  {
   "cell_type": "code",
   "execution_count": 43,
   "metadata": {
    "collapsed": false
   },
   "outputs": [
    {
     "data": {
      "text/html": [
       "<div>\n",
       "<table border=\"1\" class=\"dataframe\">\n",
       "  <thead>\n",
       "    <tr style=\"text-align: right;\">\n",
       "      <th></th>\n",
       "      <th>index</th>\n",
       "      <th>Partei</th>\n",
       "      <th>percentage</th>\n",
       "    </tr>\n",
       "  </thead>\n",
       "  <tbody>\n",
       "    <tr>\n",
       "      <th>0</th>\n",
       "      <td>SVP</td>\n",
       "      <td>7</td>\n",
       "      <td>25.0</td>\n",
       "    </tr>\n",
       "    <tr>\n",
       "      <th>1</th>\n",
       "      <td>SP</td>\n",
       "      <td>4</td>\n",
       "      <td>14.0</td>\n",
       "    </tr>\n",
       "    <tr>\n",
       "      <th>2</th>\n",
       "      <td>parteilos</td>\n",
       "      <td>4</td>\n",
       "      <td>14.0</td>\n",
       "    </tr>\n",
       "    <tr>\n",
       "      <th>3</th>\n",
       "      <td>Grüne</td>\n",
       "      <td>4</td>\n",
       "      <td>14.0</td>\n",
       "    </tr>\n",
       "    <tr>\n",
       "      <th>4</th>\n",
       "      <td>FDP</td>\n",
       "      <td>3</td>\n",
       "      <td>11.0</td>\n",
       "    </tr>\n",
       "    <tr>\n",
       "      <th>5</th>\n",
       "      <td>SP</td>\n",
       "      <td>2</td>\n",
       "      <td>7.0</td>\n",
       "    </tr>\n",
       "    <tr>\n",
       "      <th>6</th>\n",
       "      <td>GLP</td>\n",
       "      <td>2</td>\n",
       "      <td>7.0</td>\n",
       "    </tr>\n",
       "    <tr>\n",
       "      <th>7</th>\n",
       "      <td>CVP</td>\n",
       "      <td>1</td>\n",
       "      <td>4.0</td>\n",
       "    </tr>\n",
       "    <tr>\n",
       "      <th>8</th>\n",
       "      <td>BDP</td>\n",
       "      <td>1</td>\n",
       "      <td>4.0</td>\n",
       "    </tr>\n",
       "  </tbody>\n",
       "</table>\n",
       "</div>"
      ],
      "text/plain": [
       "       index  Partei  percentage\n",
       "0        SVP       7        25.0\n",
       "1         SP       4        14.0\n",
       "2  parteilos       4        14.0\n",
       "3      Grüne       4        14.0\n",
       "4        FDP       3        11.0\n",
       "5         SP       2         7.0\n",
       "6        GLP       2         7.0\n",
       "7        CVP       1         4.0\n",
       "8        BDP       1         4.0"
      ]
     },
     "execution_count": 43,
     "metadata": {},
     "output_type": "execute_result"
    }
   ],
   "source": [
    "df_partei_count"
   ]
  },
  {
   "cell_type": "code",
   "execution_count": null,
   "metadata": {
    "collapsed": true
   },
   "outputs": [],
   "source": []
  }
 ],
 "metadata": {
  "kernelspec": {
   "display_name": "Python 3",
   "language": "python",
   "name": "python3"
  },
  "language_info": {
   "codemirror_mode": {
    "name": "ipython",
    "version": 3
   },
   "file_extension": ".py",
   "mimetype": "text/x-python",
   "name": "python",
   "nbconvert_exporter": "python",
   "pygments_lexer": "ipython3",
   "version": "3.5.1"
  }
 },
 "nbformat": 4,
 "nbformat_minor": 0
}
